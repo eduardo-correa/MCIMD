{
 "cells": [
  {
   "cell_type": "markdown",
   "id": "24b263e8-5c08-45b1-b577-6d7b454afb77",
   "metadata": {},
   "source": [
    "![UNB](../Assets/images/unb_logo_cor.png)"
   ]
  },
  {
   "cell_type": "markdown",
   "id": "8800cea3-de0a-494d-adbc-3989f7158474",
   "metadata": {
    "tags": []
   },
   "source": [
    "<div style=\"text-align: center\">\n",
    "  <h1>Programa de Pós-Graduação em Computação Aplicada</h1>\n",
    "</div>"
   ]
  },
  {
   "cell_type": "markdown",
   "id": "f5a90be9-e45d-4c5b-aab2-fb0c11e9d82b",
   "metadata": {},
   "source": [
    "<div style=\"text-align: center\">\n",
    "  <h2>Lista 1: geração de números pseudo-aleatórios</h2>\n",
    "  <h3>\n",
    "    Métodos Computacionais Intensivos para Mineração de Dados<br/>\n",
    "    Prof. Guilherme Rodrigues\n",
    "  </h3>\n",
    "</div>\n",
    "<div  style=\"text-align: right\">\n",
    "  Aluno: Eduardo Ramos Corrêa\n",
    "</div>"
   ]
  },
  {
   "cell_type": "markdown",
   "id": "f67cd529-dad8-4185-b13f-8f3b156b96e8",
   "metadata": {},
   "source": [
    "## Questão 1 - Simulando computacionalmente o gerador de Babel."
   ]
  },
  {
   "cell_type": "markdown",
   "id": "219805ff-a719-41db-8991-d51c067e31c8",
   "metadata": {},
   "source": [
    "**a)** Estime via simulação computacional (Monte Carlo) a probabilidade de se gerar uma palavra válida\n",
    "(isso é, do dicionário) ao sortear ao acaso sequências de 5 letras (todas com a mesma probabilidade). Em\n",
    "seguida, calcule analiticamente tal probabilidade e faça um gráfico indicando se a estimativa obtida se\n",
    "aproxima do valor teórico conforme a amostra aumenta. Atenção: utilize somente as letras do alfabeto\n",
    "sem carateres especiais."
   ]
  },
  {
   "cell_type": "code",
   "execution_count": 2,
   "id": "42259016-0467-47ea-b14f-7b59168d6afe",
   "metadata": {},
   "outputs": [
    {
     "data": {
      "image/png": "[encoded data removed]",
      "text/plain": [
       "<Figure size 640x480 with 1 Axes>"
      ]
     },
     "metadata": {},
     "output_type": "display_data"
    }
   ],
   "source": [
    "import random\n",
    "import string\n",
    "import matplotlib.pyplot as plt\n",
    "import numpy as np\n",
    "import pandas as pd\n",
    "\n",
    "\n",
    "WORD_SIZE = 5            # size of generated words\n",
    "FILE = \"Dicionario.txt\"  # original dictionary provided by teacher\n",
    "SAMPLES = 50_000         # amount of randomly generated words\n",
    "#        # words generated and which are valid\n",
    "stats = []\n",
    "\n",
    "\n",
    "##########################################\n",
    "######## Auxiliary Functions\n",
    "##########################################\n",
    "\n",
    "# Função para adequar o tamanho do dicionário original\n",
    "# irá conter apenas palavras no tamanho\n",
    "# especificado, minúsculas e sem repetição\n",
    "def adjust_dictionary(dic, word_size):\n",
    "  result = []\n",
    "  for word in dic:\n",
    "    word = word.lower().strip('\\n')\n",
    "    if (len(word) == word_size):\n",
    "      result.append(word)\n",
    "  return list(set(result))\n",
    "\n",
    "\n",
    "\n",
    "##########################################\n",
    "######## Bloco Principal\n",
    "##########################################\n",
    "\n",
    "try:\n",
    "  with open(FILE, \"r\") as dic:\n",
    "    specific_dictionary = []\n",
    "    dictionary = dic.readlines()\n",
    "    specific_dictionary = adjust_dictionary(dictionary, word_size=WORD_SIZE)\n",
    "except FileNotFoundError:\n",
    "  print( \"Erro: Dictionary file not found.\" )\n",
    "\n",
    "# Geração das palavras aleatórias\n",
    "generated_words = []\n",
    "valid_words = []\n",
    "for palavra in range(SAMPLES):\n",
    "  generated_words.append(''.join(random.choices(string.ascii_lowercase, k=WORD_SIZE)))\n",
    "  valid_words.append(len(set(generated_words).intersection(specific_dictionary)))\n",
    "  probabilidade_calculada = round((valid_words[palavra]/SAMPLES)*100, 4)\n",
    "  stats.append(probabilidade_calculada)\n",
    "\n",
    "\n",
    "\n",
    "sample_space = len(string.ascii_lowercase)**WORD_SIZE\n",
    "theoretical_probability = round((len(specific_dictionary)/sample_space)*100, 4)\n",
    "# probabilidade_calculada = round((valid_words/SAMPLES)*100, 4)\n",
    "\n",
    "\n",
    "#print (stats)\n",
    "\n",
    "# print (f\"Espaço amostral( {WORD_SIZE} letras ): {sample_space}\")\n",
    "# print (f\"Palavras válidas com {WORD_SIZE} letras no dicionário: {len(specific_dictionary)}\")\n",
    "# print (f\"Probabilidade teórica: {theoretical_probability}%\")\n",
    "# print (f\"Total de palavras válidas com {WORD_SIZE} letras: {valid_words} de {SAMPLES} geradas\")\n",
    "# print (f\"Probabilidade calculada: {probabilidade_calculada}%\")\n",
    "\n",
    "\n",
    "#print(valid_words)\n",
    "#print(len(specific_dictionary)) # 5427\n",
    "\n",
    "x = range(SAMPLES)\n",
    "y = np.repeat(theoretical_probability, SAMPLES)\n",
    "y2 = stats\n",
    "plt.plot (x, y)\n",
    "plt.plot (x, y2)\n",
    "plt.show()\n"
   ]
  },
  {
   "cell_type": "markdown",
   "id": "e9e0f2d8-d084-4f9d-a38a-a75c5479a902",
   "metadata": {},
   "source": [
    "**b)** Estime a probabilidade da sequência gerada ser um palíndromo (ou seja, pode ser lida, indiferentemente, da esquerda para direita ou da direita para esquerda). Compare o resultado com a probabilidade exata, calculada analiticamente."
   ]
  },
  {
   "cell_type": "code",
   "execution_count": null,
   "id": "c33b8105-87e0-4554-8a31-9bffaf56139f",
   "metadata": {},
   "outputs": [],
   "source": []
  },
  {
   "cell_type": "markdown",
   "id": "cf60fac2-6e37-4fdd-a925-f0712ce679a5",
   "metadata": {},
   "source": [
    "**c)** Construa um gerador que alterne entre consoantes e vogais (se uma letra for uma vogal, a próxima será uma consoante e vice-versa). Qual a probabilidade de gerar uma palavra válida com este novo gerador?"
   ]
  },
  {
   "cell_type": "code",
   "execution_count": null,
   "id": "db9ab33f-5df2-4656-9eaa-edf064ee19bc",
   "metadata": {},
   "outputs": [],
   "source": []
  },
  {
   "cell_type": "markdown",
   "id": "a2d66182-75f8-4cc7-9989-041e7698f215",
   "metadata": {},
   "source": [
    "**d)** Considere um processo gerador de sequências de 5 caracteres no qual cada letra é sorteada com probabilidade proporcional à sua respectiva frequência na língua portuguesa (veja essa página). Suponha que esse processo gerou uma sequência com ao menos um “a”. Neste caso, estime a probabilidade dessa\n",
    "sequência ser uma palavra válida.\n",
    "> **Dica**: Use a função sample e edite o parâmetro prob. Para pensar:<br />\n",
    "Você consegue calcular essa probabilidade analiticamente? (Não precisa responder.)"
   ]
  },
  {
   "cell_type": "code",
   "execution_count": null,
   "id": "30b53b62-121a-4b11-aeab-900d9de64d6a",
   "metadata": {},
   "outputs": [],
   "source": []
  },
  {
   "cell_type": "markdown",
   "id": "4a81b841-1d7b-4be0-85b3-fb9955c7c8f1",
   "metadata": {},
   "source": [
    "## Questão 2 - Gerando números pseudo-aleatórios."
   ]
  },
  {
   "cell_type": "markdown",
   "id": "49404f11-8d3e-4af2-a1b9-df1cf48be401",
   "metadata": {},
   "source": [
    "**a)** Escreva uma função que gere, a partir do método da transformada integral, uma amostra aleatória de tamanho n da distribuição Cauchy para $n$ e $\\gamma$ arbitrários. A densidade da Cauchy($\\gamma$) é dada por<p />\n",
    "$$\n",
    "f(x) = \\frac{1}{\\pi\\gamma(1+(\\frac{x}{\\gamma})^2)}\n",
    "$$"
   ]
  },
  {
   "cell_type": "code",
   "execution_count": null,
   "id": "a64cf3bc-acf2-4f49-ba46-6afd5659f0e9",
   "metadata": {},
   "outputs": [],
   "source": []
  },
  {
   "cell_type": "markdown",
   "id": "4cee10b0-ca98-46e9-ac9c-88880d3b9bfb",
   "metadata": {},
   "source": [
    "**b)** Uma variável aleatória discreta $X$ tem função massa de probabilidade\n",
    "$$p(2) = 0.2$$\n",
    "$$p(3) = 0.1$$\n",
    "$$p(5) = 0.2$$\n",
    "$$p(7) = 0.2$$\n",
    "$$p(9) = 0.3$$\n",
    "\n",
    "Use o método de transformação inversa para gerar uma amostra aleatória de tamanho 1000 a partir da\n",
    "distribuição de $X$. Construa uma tabela de frequência relativa e compare as probabilidades empíricas com as teóricas. Repita usando a função _sample_ do R."
   ]
  },
  {
   "cell_type": "code",
   "execution_count": null,
   "id": "346d3ea9-d61c-41f7-9114-c83815f72691",
   "metadata": {},
   "outputs": [],
   "source": []
  },
  {
   "cell_type": "markdown",
   "id": "92b73e63-a761-442f-b8c7-d848e34df207",
   "metadata": {},
   "source": [
    "**c)** Escreva uma função que gere amostras da distribuição Normal padrão ($\\mu = 0$, $\\sigma = 1$) usando o método de aceitação e rejeição adotando como função geradora de candidatos, $g(x)$, a distribuição Cauchy padrão (isso é, com $\\gamma = 1$)."
   ]
  },
  {
   "cell_type": "code",
   "execution_count": null,
   "id": "3a88a1be-9610-41bc-9680-77a7f6bbcb50",
   "metadata": {},
   "outputs": [],
   "source": []
  }
 ],
 "metadata": {
  "kernelspec": {
   "display_name": "Python 3 (ipykernel)",
   "language": "python",
   "name": "python3"
  },
  "language_info": {
   "codemirror_mode": {
    "name": "ipython",
    "version": 3
   },
   "file_extension": ".py",
   "mimetype": "text/x-python",
   "name": "python",
   "nbconvert_exporter": "python",
   "pygments_lexer": "ipython3",
   "version": "3.9.15"
  },
  "vscode": {
   "interpreter": {
    "hash": "80869ced907ca621b0a81c6edbb791136e6adc1f41c9f9833ff209137228b71b"
   }
  }
 },
 "nbformat": 4,
 "nbformat_minor": 5
}
